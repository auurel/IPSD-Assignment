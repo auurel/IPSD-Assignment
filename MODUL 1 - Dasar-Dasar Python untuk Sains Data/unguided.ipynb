{
 "cells": [
  {
   "cell_type": "markdown",
   "metadata": {},
   "source": [
    "1. Buatlah program yang dapat menghasilkan pola berbentuk angka seperti di bawah ini, dengan syarat angka yang ditampilkan adalah hasil dari penjumlahan bilangan prima sebelumnya:\n",
    "\n",
    "```\n",
    "1\n",
    "2 3\n",
    "5 7 11\n",
    "13 17 19 23\n",
    "...\n",
    "```\n",
    "Jumlah angka pada setiap baris bertambah 1, dan bilangan yang ditampilkan adalah bilangan prima.\n"
   ]
  },
  {
   "cell_type": "code",
   "execution_count": 34,
   "metadata": {},
   "outputs": [
    {
     "name": "stdout",
     "output_type": "stream",
     "text": [
      "1 \n",
      "2 3 \n",
      "5 7 11 \n",
      "13 17 19 23 \n",
      "29 31 37 41 43 \n"
     ]
    }
   ],
   "source": [
    "def is_prime(num):\n",
    "    # memeriksa apakah suatu bilangan adalah bilangan prima\n",
    "    if num < 1:\n",
    "        return False\n",
    "    for i in range(2, int(num**0.5) + 1):\n",
    "        if num % i == 0:\n",
    "            return False\n",
    "    return True\n",
    "\n",
    "def generate_primes(n):\n",
    "    # menghasilkan n bilangan prima\n",
    "    primes = []\n",
    "    num = 1  \n",
    "    while len(primes) < n:\n",
    "        if is_prime(num):\n",
    "            primes.append(num)\n",
    "        num += 1\n",
    "    return primes\n",
    "\n",
    "def generate_pattern(rows):\n",
    "    # menghasilkan pola segitiga bilangan prima\n",
    "    primes = generate_primes(rows * (rows + 1) // 2)  \n",
    "    index = 0\n",
    "    for i in range(1, rows + 1):  \n",
    "        for j in range(i):  \n",
    "            print(primes[index], end=' ')\n",
    "            index += 1\n",
    "        print() \n",
    "\n",
    "def main():\n",
    "    rows = int(input(\"Masukkan jumlah baris: \"))\n",
    "    generate_pattern(rows)\n",
    "\n",
    "if __name__ == \"__main__\":\n",
    "    main()"
   ]
  },
  {
   "cell_type": "markdown",
   "metadata": {},
   "source": [
    "2. Buatlah sebuah fungsi yang menerima dua input berupa list angka. Fungsi ini harus mengembalikan sebuah list baru yang berisi elemen dari dua list input yang memiliki indeks ganjil. List baru tersebut juga harus diurutkan secara menurun berdasarkan nilai elemen."
   ]
  },
  {
   "cell_type": "code",
   "execution_count": 7,
   "metadata": {},
   "outputs": [
    {
     "name": "stdout",
     "output_type": "stream",
     "text": [
      "[62, 60, 47, 42, 28, 21]\n"
     ]
    }
   ],
   "source": [
    "def gabung_indeks(list1, list2):\n",
    "    # ambil elemen dengan indeks ganjil dari kedua list\n",
    "    list_ganjil_1 = [list1[i] for i in range(1, len(list1), 2)]\n",
    "    list_ganjil_2 = [list2[i] for i in range(1, len(list2), 2)]\n",
    "\n",
    "    # gabungkan kedua list\n",
    "    list_gabung = list_ganjil_1 + list_ganjil_2\n",
    "\n",
    "    # urutkan list secara menurun\n",
    "    list_gabung.sort(reverse=True)\n",
    "\n",
    "    return list_gabung\n",
    "\n",
    "# contoh penggunaan\n",
    "list_a = [10, 21, 34, 47, 53, 62]\n",
    "list_b = [15, 28, 39, 42, 55, 60]\n",
    "\n",
    "hasil = gabung_indeks(list_a, list_b)\n",
    "print(hasil)\n"
   ]
  },
  {
   "cell_type": "markdown",
   "metadata": {},
   "source": [
    "3. Buat sebuah program untuk mensimulasikan transaksi ATM. Program harus:\n",
    "    \n",
    "    1. Meminta pengguna memasukkan PIN (dibatasi 3 kali percobaan).\n",
    "\n",
    "    2. Setelah PIN benar, meminta jumlah penarikan.\n",
    "\n",
    "    3. Jika saldo kurang dari jumlah yang ditarik, munculkan pesan kesalahan.\n",
    "    \n",
    "    4. Jika penarikan berhasil, tampilkan saldo akhir."
   ]
  },
  {
   "cell_type": "code",
   "execution_count": 5,
   "metadata": {},
   "outputs": [
    {
     "name": "stdout",
     "output_type": "stream",
     "text": [
      "Penarikan berhasil. Saldo akhir: 95000\n"
     ]
    }
   ],
   "source": [
    "class ATM:\n",
    "    def __init__(self, saldo=100000):\n",
    "        self.saldo = saldo\n",
    "        self.coba_pin = 0\n",
    "        self.maks_coba_pin = 3\n",
    "\n",
    "    def autentikasi_pin(self):\n",
    "        while self.coba_pin < self.maks_coba_pin:\n",
    "            pin = input(\"Masukkan PIN Anda: \")\n",
    "            if pin == \"1234\": \n",
    "                return True\n",
    "            else:\n",
    "                self.coba_pin += 1\n",
    "                print(\"PIN tidak valid. Coba lagi.\")\n",
    "        print(\"Maksimum coba PIN terlampaui. Transaksi dibatalkan.\")\n",
    "        return False\n",
    "\n",
    "    def tarik(self):\n",
    "        if not self.autentikasi_pin():\n",
    "            return\n",
    "        jumlah = int(input(\"Masukkan jumlah penarikan: \"))\n",
    "        if jumlah > self.saldo:\n",
    "            print(\"Saldo tidak cukup. Transaksi dibatalkan.\")\n",
    "        else:\n",
    "            self.saldo -= jumlah\n",
    "            print(f\"Penarikan berhasil. Saldo akhir: {self.saldo}\")\n",
    "\n",
    "atm = ATM()\n",
    "atm.tarik()"
   ]
  },
  {
   "cell_type": "markdown",
   "metadata": {},
   "source": [
    "4. Anda diberikan file CSV berisi data nilai ujian mahasiswa. Tugas Anda adalah menulis sebuah program yang:\n",
    "    1. Membaca file CSV dan menyimpan datanya ke dalam dictionary.\n",
    "    2. Menghitung rata-rata nilai tiap mahasiswa.\n",
    "    3. Menampilkan mahasiswa dengan nilai tertinggi dan terendah."
   ]
  },
  {
   "cell_type": "code",
   "execution_count": 2,
   "metadata": {},
   "outputs": [
    {
     "name": "stdout",
     "output_type": "stream",
     "text": [
      "Rata-rata nilai tiap mahasiswa:\n",
      "Siswa_1: 59.00\n",
      "Siswa_2: 79.00\n",
      "Siswa_3: 61.00\n",
      "Siswa_4: 74.00\n",
      "Siswa_5: 50.00\n",
      "Siswa_6: 70.00\n",
      "Siswa_7: 100.00\n",
      "Siswa_8: 84.00\n",
      "Siswa_9: 78.00\n",
      "Siswa_10: 61.00\n",
      "Siswa_11: 92.00\n",
      "Siswa_12: 60.00\n",
      "Siswa_13: 78.00\n",
      "Siswa_14: 87.00\n",
      "Siswa_15: 57.00\n",
      "Siswa_16: 73.00\n",
      "Siswa_17: 53.00\n",
      "Siswa_18: 54.00\n",
      "Siswa_19: 97.00\n",
      "Siswa_20: 52.00\n",
      "Siswa_21: 84.00\n",
      "Siswa_22: 89.00\n",
      "Siswa_23: 52.00\n",
      "Siswa_24: 90.00\n",
      "Siswa_25: 52.00\n",
      "Siswa_26: 64.00\n",
      "Siswa_27: 96.00\n",
      "Siswa_28: 100.00\n",
      "Siswa_29: 84.00\n",
      "Siswa_30: 60.00\n",
      "Siswa_31: 85.00\n",
      "Siswa_32: 63.00\n",
      "Siswa_33: 64.00\n",
      "Siswa_34: 68.00\n",
      "Siswa_35: 67.00\n",
      "Siswa_36: 52.00\n",
      "Siswa_37: 79.00\n",
      "Siswa_38: 55.00\n",
      "Siswa_39: 88.00\n",
      "Siswa_40: 95.00\n",
      "Siswa_41: 78.00\n",
      "Siswa_42: 66.00\n",
      "Siswa_43: 71.00\n",
      "Siswa_44: 64.00\n",
      "Siswa_45: 51.00\n",
      "Siswa_46: 77.00\n",
      "Siswa_47: 90.00\n",
      "Siswa_48: 83.00\n",
      "Siswa_49: 99.00\n",
      "Siswa_50: 56.00\n",
      "Siswa_51: 68.00\n",
      "Siswa_52: 88.00\n",
      "Siswa_53: 62.00\n",
      "Siswa_54: 98.00\n",
      "Siswa_55: 58.00\n",
      "Siswa_56: 92.00\n",
      "Siswa_57: 60.00\n",
      "Siswa_58: 55.00\n",
      "Siswa_59: 93.00\n",
      "Siswa_60: 60.00\n",
      "Siswa_61: 53.00\n",
      "Siswa_62: 79.00\n",
      "Siswa_63: 75.00\n",
      "Siswa_64: 83.00\n",
      "Siswa_65: 58.00\n",
      "Siswa_66: 50.00\n",
      "Siswa_67: 75.00\n",
      "Siswa_68: 61.00\n",
      "Siswa_69: 57.00\n",
      "Siswa_70: 98.00\n",
      "Siswa_71: 85.00\n",
      "Siswa_72: 57.00\n",
      "Siswa_73: 53.00\n",
      "Siswa_74: 55.00\n",
      "Siswa_75: 54.00\n",
      "Siswa_76: 64.00\n",
      "Siswa_77: 51.00\n",
      "Siswa_78: 65.00\n",
      "Siswa_79: 68.00\n",
      "Siswa_80: 51.00\n",
      "Siswa_81: 99.00\n",
      "Siswa_82: 89.00\n",
      "Siswa_83: 92.00\n",
      "Siswa_84: 56.00\n",
      "Siswa_85: 96.00\n",
      "Siswa_86: 79.00\n",
      "Siswa_87: 76.00\n",
      "Siswa_88: 71.00\n",
      "Siswa_89: 98.00\n",
      "Siswa_90: 89.00\n",
      "Siswa_91: 92.00\n",
      "Siswa_92: 65.00\n",
      "Siswa_93: 50.00\n",
      "Siswa_94: 84.00\n",
      "Siswa_95: 67.00\n",
      "Siswa_96: 59.00\n",
      "Siswa_97: 57.00\n",
      "Siswa_98: 70.00\n",
      "Siswa_99: 66.00\n",
      "Siswa_100: 78.00\n",
      "\n",
      "Mahasiswa dengan nilai tertinggi: Siswa_7 (100.00)\n",
      "Mahasiswa dengan nilai terendah: Siswa_5 (50.00)\n"
     ]
    }
   ],
   "source": [
    "import csv\n",
    "\n",
    "# baca file CSV dan menyimpan data ke dalam dictionary\n",
    "def baca_csv(nama_file):\n",
    "    data_mahasiswa = {}\n",
    "    with open(nama_file, mode='r') as file:\n",
    "        csv_reader = csv.reader(file)\n",
    "        header = next(csv_reader)\n",
    "        for row in csv_reader:\n",
    "            nama = row[0]\n",
    "            nilai = list(map(float, row[1:]))\n",
    "            data_mahasiswa[nama] = nilai\n",
    "    return data_mahasiswa\n",
    "\n",
    "# hitung rata-rata nilai tiap mahasiswa\n",
    "def hitung_rata_rata(data_mahasiswa):\n",
    "    rata_rata = {}\n",
    "    for nama, nilai in data_mahasiswa.items():\n",
    "        rata_rata[nama] = sum(nilai) / len(nilai)\n",
    "    return rata_rata\n",
    "\n",
    "#  menemukan mahasiswa dengan nilai tertinggi dan terendah\n",
    "def nilai_ekstrem(rata_rata):\n",
    "    mahasiswa_tertinggi = max(rata_rata, key=rata_rata.get)\n",
    "    mahasiswa_terendah = min(rata_rata, key=rata_rata.get)\n",
    "    return mahasiswa_tertinggi, mahasiswa_terendah\n",
    "\n",
    "# fungsi utama\n",
    "def main(nama_file):\n",
    "    data_mahasiswa = baca_csv(nama_file)\n",
    "    rata_rata = hitung_rata_rata(data_mahasiswa)\n",
    "    \n",
    "    # menampilkan rata-rata nilai tiap mahasiswa\n",
    "    print(\"Rata-rata nilai tiap mahasiswa:\")\n",
    "    for nama, rata in rata_rata.items():\n",
    "        print(f\"{nama}: {rata:.2f}\")\n",
    "    \n",
    "    # menampilkan mahasiswa dengan nilai tertinggi dan terendah\n",
    "    tertinggi, terendah = nilai_ekstrem(rata_rata)\n",
    "    print(f\"\\nMahasiswa dengan nilai tertinggi: {tertinggi} ({rata_rata[tertinggi]:.2f})\")\n",
    "    print(f\"Mahasiswa dengan nilai terendah: {terendah} ({rata_rata[terendah]:.2f})\")\n",
    "\n",
    "if __name__ == \"__main__\":\n",
    "    nama_file = 'siswa_nilai.csv'\n",
    "    main(nama_file)\n"
   ]
  },
  {
   "cell_type": "markdown",
   "metadata": {},
   "source": [
    "5. Buatlah permainan sederhana menggunakan Python, di mana komputer akan memilih sebuah angka secara acak antara 1 hingga 100, dan pengguna harus menebak angka tersebut. Setiap tebakan yang salah akan memberikan petunjuk apakah angka yang ditebak lebih besar atau lebih kecil dari angka sebenarnya. Batasi jumlah percobaan menjadi 5 kali. Setelah permainan selesai, tampilkan apakah pemain menang atau kalah."
   ]
  },
  {
   "cell_type": "code",
   "execution_count": 38,
   "metadata": {},
   "outputs": [
    {
     "name": "stdout",
     "output_type": "stream",
     "text": [
      "Tebakan Anda terlalu kecil. Coba lagi!\n",
      "Tebakan Anda terlalu besar. Coba lagi!\n",
      "Tebakan Anda terlalu besar. Coba lagi!\n",
      "Tebakan Anda terlalu kecil. Coba lagi!\n",
      "Tebakan Anda terlalu kecil. Coba lagi!\n",
      "Kalah Angka sebenarnya adalah 59.\n",
      "Pemain kalah.\n"
     ]
    }
   ],
   "source": [
    "import random\n",
    "\n",
    "def tebak_angka():\n",
    "    # memilih angka acak antara 1 dan 100\n",
    "    angka_sebenarnya = random.randint(1, 100)\n",
    "    \n",
    "    # membuat pengguna dapat menebak sebanyak 5 kali\n",
    "    percobaan = 5\n",
    "    \n",
    "    while percobaan > 0:\n",
    "        # menerima input dari pengguna\n",
    "        try:\n",
    "            tebakan = int(input(\"Masukkan angka antara 1 dan 100: \"))\n",
    "        except ValueError:\n",
    "            print(\"Mohon masukkan angka yang valid.\")\n",
    "            continue\n",
    "        \n",
    "        # cek apakah tebakan benar atau salah\n",
    "        if tebakan == angka_sebenarnya:\n",
    "            print(f\"Selamat Anda berhasil menebak angka {angka_sebenarnya} dalam {5 - percobaan + 1} percobaan.\")\n",
    "            return True\n",
    "        \n",
    "        # memberi petunjuk jika tebakan salah\n",
    "        elif tebakan < angka_sebenarnya:\n",
    "            print(\"Tebakan Anda terlalu kecil. Coba lagi!\")\n",
    "        else:\n",
    "            print(\"Tebakan Anda terlalu besar. Coba lagi!\")\n",
    "        \n",
    "        # mengurangi jumlah percobaan\n",
    "        percobaan -= 1\n",
    "    \n",
    "    # jika gagal menebak dalam 5 kali percobaan\n",
    "    print(f\"Kalah Angka sebenarnya adalah {angka_sebenarnya}.\")\n",
    "    return False\n",
    "\n",
    "def main():\n",
    "    # memulai permainan\n",
    "    hasil_permainan = tebak_angka()\n",
    "    \n",
    "    # menampilkan hasil permainan\n",
    "    if hasil_permainan:\n",
    "        print(\"Pemain menang!\")\n",
    "    else:\n",
    "        print(\"Pemain kalah.\")\n",
    "\n",
    "if __name__ == \"__main__\":\n",
    "    main()"
   ]
  },
  {
   "cell_type": "markdown",
   "metadata": {},
   "source": [
    "6. Buat fungsi rekursif yang menerima input bilangan bulat `n` dan menghasilkan urutan bilangan seperti berikut ini:\n",
    "```\n",
    "Input: n = 4\n",
    "Output: 1, 1, 2, 6, 24\n",
    "```\n",
    "Fungsi ini harus menggunakan konsep rekursi untuk menghitung faktorial setiap angka hingga `n`.\n",
    "\n"
   ]
  },
  {
   "cell_type": "code",
   "execution_count": 27,
   "metadata": {},
   "outputs": [
    {
     "name": "stdout",
     "output_type": "stream",
     "text": [
      "Output: [1, 2, 6, 24]\n"
     ]
    }
   ],
   "source": [
    "def faktorial(n):\n",
    "    if n == 0 or n == 1:\n",
    "        return 1\n",
    "    else:\n",
    "        return n * faktorial(n - 1)\n",
    "\n",
    "def generate_sequence(n):\n",
    "    sequence = []\n",
    "    for i in range(1, n + 1):\n",
    "        sequence.append(faktorial(i))\n",
    "    return sequence\n",
    "\n",
    "def main():\n",
    "    n = int(input(\"Masukkan bilangan bulat n: \"))\n",
    "    sequence = generate_sequence(n)\n",
    "    print(\"Output:\", sequence)\n",
    "\n",
    "if __name__ == \"__main__\":\n",
    "    main()"
   ]
  },
  {
   "cell_type": "markdown",
   "metadata": {},
   "source": [
    "7. Buatlah program untuk memecahkan masalah \"minimum coin change\". Diberikan jumlah uang dan daftar nilai koin yang tersedia (misalnya, 1, 5, 10, 25), tentukan kombinasi minimum koin yang diperlukan untuk mencapai jumlah uang tersebut. Namun, program Anda harus bisa menangani koin-koin yang nilai dan jumlahnya ditentukan pengguna."
   ]
  },
  {
   "cell_type": "code",
   "execution_count": 5,
   "metadata": {},
   "outputs": [
    {
     "name": "stdout",
     "output_type": "stream",
     "text": [
      "Jumlah koin minimum yang diperlukan: 2\n"
     ]
    }
   ],
   "source": [
    "def minimum_coin_change(jumlah, coins):\n",
    "    dp = [float('inf')] * (jumlah + 1)\n",
    "    dp[0] = 0\n",
    "\n",
    "    for coin in coins:\n",
    "        for x in range(coin, jumlah + 1):\n",
    "            dp[x] = min(dp[x], dp[x - coin] + 1)\n",
    "\n",
    "    if dp[jumlah] == float('inf'):\n",
    "        return -1 \n",
    "    else:\n",
    "        return dp[jumlah] \n",
    "    \n",
    "def main():\n",
    "    # menerima input dari pengguna\n",
    "    jumlah = int(input(\"Masukkan jumlah uang yang ingin dicapai: \"))\n",
    "    coins_input = input(\"Masukkan nilai koin yang tersedia (pisahkan dengan spasi): \")\n",
    "    \n",
    "    # konversi input jadi list integer\n",
    "    coins = list(map(int, coins_input.split()))\n",
    "    \n",
    "    # hitung jumlah koin minimum\n",
    "    result = minimum_coin_change(jumlah, coins)\n",
    "    \n",
    "    if result == -1:\n",
    "        print(\"Tidak ada kombinasi koin yang dapat mencapai jumlah tersebut.\")\n",
    "    else:\n",
    "        print(f\"Jumlah koin minimum yang diperlukan: {result}\")\n",
    "\n",
    "if __name__ == \"__main__\":\n",
    "    main()"
   ]
  },
  {
   "cell_type": "markdown",
   "metadata": {},
   "source": [
    "8. Buat sebuah program yang menerima string dari pengguna dan mengonversi string tersebut menjadi sebuah list berisi kata-kata terbalik. Misalnya:\n",
    "```\n",
    "Input: \"Saya suka Python\"\n",
    "Output: [\"ayaS\", \"akus\", \"nohtyP\"]\n",
    "```"
   ]
  },
  {
   "cell_type": "code",
   "execution_count": 15,
   "metadata": {},
   "outputs": [
    {
     "name": "stdout",
     "output_type": "stream",
     "text": [
      "Output: ['uhaT', 'taluB']\n"
     ]
    }
   ],
   "source": [
    "def kata_terbalik(input_string):\n",
    "    # memisahkan string jadi list kata\n",
    "    kata_list = input_string.split()\n",
    "    \n",
    "    # membalik setiap kata dalam list\n",
    "    kata_terbalik_list = [kata[::-1] for kata in kata_list]\n",
    "    \n",
    "    return kata_terbalik_list\n",
    "\n",
    "def main():\n",
    "    input_string = input(\"Masukkan sebuah kalimat: \")\n",
    "    hasil = kata_terbalik(input_string)\n",
    "    \n",
    "    print(\"Output:\", hasil)\n",
    "\n",
    "if __name__ == \"__main__\":\n",
    "    main()"
   ]
  },
  {
   "cell_type": "markdown",
   "metadata": {},
   "source": [
    "9. Buat class bernama `Buku` yang memiliki atribut `judul`, `penulis`, dan `tahun_terbit`. Buat method dalam class untuk menampilkan informasi buku, serta method untuk menghitung usia buku berdasarkan tahun saat ini. Buatlah 3 objek dari class `Buku` dan tampilkan informasi serta usia masing-masing buku."
   ]
  },
  {
   "cell_type": "code",
   "execution_count": 3,
   "metadata": {},
   "outputs": [
    {
     "name": "stdout",
     "output_type": "stream",
     "text": [
      "Judul: Harry Potter dan Batu Bertuah\n",
      "Penulis: J.K. Rowling\n",
      "Tahun Terbit: 1997\n",
      "Usia Buku: 27 tahun\n",
      "\n",
      "Judul: The Great Dinosaurs\n",
      "Penulis: Bambang\n",
      "Tahun Terbit: 2005\n",
      "Usia Buku: 19 tahun\n",
      "\n",
      "Judul: 1715\n",
      "Penulis: Orel\n",
      "Tahun Terbit: 1760\n",
      "Usia Buku: 264 tahun\n",
      "\n",
      "Judul: Cara membuat cilok\n",
      "Penulis: Mursid\n",
      "Tahun Terbit: 2015\n",
      "Usia Buku: 9 tahun\n",
      "\n"
     ]
    }
   ],
   "source": [
    "class Buku:\n",
    "    def __init__(self, judul, penulis, tahun_terbit):\n",
    "        self.judul = judul\n",
    "        self.penulis = penulis\n",
    "        self.tahun_terbit = tahun_terbit\n",
    "\n",
    "    def tampilkan_informasi(self):\n",
    "        print(f\"Judul: {self.judul}\")\n",
    "        print(f\"Penulis: {self.penulis}\")\n",
    "        print(f\"Tahun Terbit: {self.tahun_terbit}\")\n",
    "\n",
    "    def hitung_usia(self, tahun_sekarang):\n",
    "        return tahun_sekarang - self.tahun_terbit\n",
    "\n",
    "# Membuat objek Buku\n",
    "buku1 = Buku(\"Harry Potter dan Batu Bertuah\", \"J.K. Rowling\", 1997)\n",
    "buku2 = Buku(\"The Great Dinosaurs\", \"Bambang\", 2005)\n",
    "buku3 = Buku(\"1715\", \"Orel\", 1760)\n",
    "buku4 = Buku(\"Cara membuat cilok\", \"Mursid\", 2015)\n",
    "\n",
    "# Tahun saat ini\n",
    "tahun_sekarang = 2024\n",
    "\n",
    "# Menampilkan informasi dan usia masing-masing buku\n",
    "for buku in [buku1, buku2, buku3, buku4]:\n",
    "    buku.tampilkan_informasi()\n",
    "    usia = buku.hitung_usia(tahun_sekarang)\n",
    "    print(f\"Usia Buku: {usia} tahun\\n\")\n"
   ]
  },
  {
   "cell_type": "markdown",
   "metadata": {},
   "source": [
    "10. Buatlah program yang mengimplementasikan algoritma pencarian biner, namun dengan modifikasi: algoritma harus bisa mencari nilai di list yang hanya berisi angka genap, dan jika nilai yang dicari adalah angka ganjil, program harus menampilkan pesan bahwa nilai tersebut tidak bisa ditemukan."
   ]
  },
  {
   "cell_type": "code",
   "execution_count": 11,
   "metadata": {},
   "outputs": [
    {
     "name": "stdout",
     "output_type": "stream",
     "text": [
      "Angka 4 ditemukan pada indeks 2.\n"
     ]
    }
   ],
   "source": [
    "def pencarian_biner_genap(genap, target):\n",
    "    # memastikan daftar hanya berisi angka genap\n",
    "    if any(num % 2 != 0 for num in genap):\n",
    "        raise ValueError(\"Daftar hanya berisi angka genap.\")\n",
    "    \n",
    "    kiri, kanan = 0, len(genap) - 1\n",
    "\n",
    "    while kiri <= kanan:\n",
    "        tengah = (kiri + kanan) // 2\n",
    "        if genap[tengah] == target:\n",
    "            return tengah \n",
    "        elif genap[tengah] < target:\n",
    "            kiri = tengah + 1\n",
    "        else:\n",
    "            kanan = tengah - 1\n",
    "    \n",
    "    return -1\n",
    "\n",
    "def main():\n",
    "    # daftar angka genap yang sudah diurutkan\n",
    "    genap = [0, 2, 4, 6, 8, 10, 12, 14, 16, 18, 20]\n",
    "    \n",
    "    # input dari pengguna\n",
    "    target = int(input(\"Masukkan angka yang ingin dicari: \"))\n",
    "    \n",
    "    # cek bila target adalah angka ganjil\n",
    "    if target % 2 != 0:\n",
    "        print(\"Nilai tidak bisa ditemukan karena yang dicari adalah angka ganjil.\")\n",
    "    else:\n",
    "        # mencari angka menggunakan pencarian biner\n",
    "        indeks = pencarian_biner_genap(genap, target)\n",
    "        \n",
    "        if indeks != -1:\n",
    "            print(f\"Angka {target} ditemukan pada indeks {indeks}.\")\n",
    "        else:\n",
    "            print(f\"Angka {target} tidak ditemukan dalam daftar.\")\n",
    "\n",
    "if __name__ == \"__main__\":\n",
    "    main()"
   ]
  }
 ],
 "metadata": {
  "kernelspec": {
   "display_name": "Python 3",
   "language": "python",
   "name": "python3"
  },
  "language_info": {
   "codemirror_mode": {
    "name": "ipython",
    "version": 3
   },
   "file_extension": ".py",
   "mimetype": "text/x-python",
   "name": "python",
   "nbconvert_exporter": "python",
   "pygments_lexer": "ipython3",
   "version": "3.12.6"
  }
 },
 "nbformat": 4,
 "nbformat_minor": 2
}
