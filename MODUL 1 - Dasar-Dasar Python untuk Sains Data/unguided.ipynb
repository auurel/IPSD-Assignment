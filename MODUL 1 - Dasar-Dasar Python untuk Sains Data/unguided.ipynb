{
 "cells": [
  {
   "cell_type": "markdown",
   "metadata": {},
   "source": [
    "1. Buatlah program yang dapat menghasilkan pola berbentuk angka seperti di bawah ini, dengan syarat angka yang ditampilkan adalah hasil dari penjumlahan bilangan prima sebelumnya:\n",
    "\n",
    "```\n",
    "1\n",
    "2 3\n",
    "5 7 11\n",
    "13 17 19 23\n",
    "...\n",
    "```\n",
    "Jumlah angka pada setiap baris bertambah 1, dan bilangan yang ditampilkan adalah bilangan prima.\n"
   ]
  },
  {
   "cell_type": "code",
   "execution_count": 34,
   "metadata": {},
   "outputs": [
    {
     "name": "stdout",
     "output_type": "stream",
     "text": [
      "1 \n",
      "2 3 \n",
      "5 7 11 \n",
      "13 17 19 23 \n",
      "29 31 37 41 43 \n"
     ]
    }
   ],
   "source": [
    "def is_prime(num):\n",
    "    # memeriksa apakah suatu bilangan adalah bilangan prima\n",
    "    if num < 1:\n",
    "        return False\n",
    "    for i in range(2, int(num**0.5) + 1):\n",
    "        if num % i == 0:\n",
    "            return False\n",
    "    return True\n",
    "\n",
    "def generate_primes(n):\n",
    "    # menghasilkan n bilangan prima\n",
    "    primes = []\n",
    "    num = 1  \n",
    "    while len(primes) < n:\n",
    "        if is_prime(num):\n",
    "            primes.append(num)\n",
    "        num += 1\n",
    "    return primes\n",
    "\n",
    "def generate_pattern(rows):\n",
    "    # menghasilkan pola segitiga bilangan prima\n",
    "    primes = generate_primes(rows * (rows + 1) // 2)  \n",
    "    index = 0\n",
    "    for i in range(1, rows + 1):  \n",
    "        for j in range(i):  \n",
    "            print(primes[index], end=' ')\n",
    "            index += 1\n",
    "        print() \n",
    "\n",
    "def main():\n",
    "    rows = int(input(\"Masukkan jumlah baris: \"))\n",
    "    generate_pattern(rows)\n",
    "\n",
    "if __name__ == \"__main__\":\n",
    "    main()"
   ]
  },
  {
   "cell_type": "markdown",
   "metadata": {},
   "source": [
    "2. Buatlah sebuah fungsi yang menerima dua input berupa list angka. Fungsi ini harus mengembalikan sebuah list baru yang berisi elemen dari dua list input yang memiliki indeks ganjil. List baru tersebut juga harus diurutkan secara menurun berdasarkan nilai elemen."
   ]
  },
  {
   "cell_type": "code",
   "execution_count": 7,
   "metadata": {},
   "outputs": [
    {
     "name": "stdout",
     "output_type": "stream",
     "text": [
      "[62, 60, 47, 42, 28, 21]\n"
     ]
    }
   ],
   "source": [
    "def gabung_indeks(list1, list2):\n",
    "    # ambil elemen dengan indeks ganjil dari kedua list\n",
    "    list_ganjil_1 = [list1[i] for i in range(1, len(list1), 2)]\n",
    "    list_ganjil_2 = [list2[i] for i in range(1, len(list2), 2)]\n",
    "\n",
    "    # gabungkan kedua list\n",
    "    list_gabung = list_ganjil_1 + list_ganjil_2\n",
    "\n",
    "    # urutkan list secara menurun\n",
    "    list_gabung.sort(reverse=True)\n",
    "\n",
    "    return list_gabung\n",
    "\n",
    "# contoh penggunaan\n",
    "list_a = [10, 21, 34, 47, 53, 62]\n",
    "list_b = [15, 28, 39, 42, 55, 60]\n",
    "\n",
    "hasil = gabung_indeks(list_a, list_b)\n",
    "print(hasil)\n"
   ]
  },
  {
   "cell_type": "markdown",
   "metadata": {},
   "source": [
    "3. Buat sebuah program untuk mensimulasikan transaksi ATM. Program harus:\n",
    "    \n",
    "    1. Meminta pengguna memasukkan PIN (dibatasi 3 kali percobaan).\n",
    "\n",
    "    2. Setelah PIN benar, meminta jumlah penarikan.\n",
    "\n",
    "    3. Jika saldo kurang dari jumlah yang ditarik, munculkan pesan kesalahan.\n",
    "    \n",
    "    4. Jika penarikan berhasil, tampilkan saldo akhir."
   ]
  },
  {
   "cell_type": "code",
   "execution_count": 5,
   "metadata": {},
   "outputs": [
    {
     "name": "stdout",
     "output_type": "stream",
     "text": [
      "Penarikan berhasil. Saldo akhir: 95000\n"
     ]
    }
   ],
   "source": [
    "class ATM:\n",
    "    def __init__(self, saldo=100000):\n",
    "        self.saldo = saldo\n",
    "        self.coba_pin = 0\n",
    "        self.maks_coba_pin = 3\n",
    "\n",
    "    def autentikasi_pin(self):\n",
    "        while self.coba_pin < self.maks_coba_pin:\n",
    "            pin = input(\"Masukkan PIN Anda: \")\n",
    "            if pin == \"1234\": \n",
    "                return True\n",
    "            else:\n",
    "                self.coba_pin += 1\n",
    "                print(\"PIN tidak valid. Coba lagi.\")\n",
    "        print(\"Maksimum coba PIN terlampaui. Transaksi dibatalkan.\")\n",
    "        return False\n",
    "\n",
    "    def tarik(self):\n",
    "        if not self.autentikasi_pin():\n",
    "            return\n",
    "        jumlah = int(input(\"Masukkan jumlah penarikan: \"))\n",
    "        if jumlah > self.saldo:\n",
    "            print(\"Saldo tidak cukup. Transaksi dibatalkan.\")\n",
    "        else:\n",
    "            self.saldo -= jumlah\n",
    "            print(f\"Penarikan berhasil. Saldo akhir: {self.saldo}\")\n",
    "\n",
    "atm = ATM()\n",
    "atm.tarik()"
   ]
  },
  {
   "cell_type": "markdown",
   "metadata": {},
   "source": [
    "4. Anda diberikan file CSV berisi data nilai ujian mahasiswa. Tugas Anda adalah menulis sebuah program yang:\n",
    "    1. Membaca file CSV dan menyimpan datanya ke dalam dictionary.\n",
    "    2. Menghitung rata-rata nilai tiap mahasiswa.\n",
    "    3. Menampilkan mahasiswa dengan nilai tertinggi dan terendah."
   ]
  },
  {
   "cell_type": "code",
   "execution_count": 8,
   "metadata": {},
   "outputs": [
    {
     "ename": "ModuleNotFoundError",
     "evalue": "No module named 'pandas'",
     "output_type": "error",
     "traceback": [
      "\u001b[1;31m---------------------------------------------------------------------------\u001b[0m",
      "\u001b[1;31mModuleNotFoundError\u001b[0m                       Traceback (most recent call last)",
      "Cell \u001b[1;32mIn[8], line 1\u001b[0m\n\u001b[1;32m----> 1\u001b[0m \u001b[38;5;28;01mimport\u001b[39;00m \u001b[38;5;21;01mpandas\u001b[39;00m \u001b[38;5;28;01mas\u001b[39;00m \u001b[38;5;21;01mpd\u001b[39;00m\n\u001b[0;32m      3\u001b[0m \u001b[38;5;28;01mdef\u001b[39;00m \u001b[38;5;21manalisis_nilai\u001b[39m(file_csv):\n\u001b[0;32m      4\u001b[0m \u001b[38;5;250m    \u001b[39m\u001b[38;5;124;03m\"\"\"\u001b[39;00m\n\u001b[0;32m      5\u001b[0m \u001b[38;5;124;03m    Fungsi untuk menganalisis data nilai mahasiswa dari file CSV.\u001b[39;00m\n\u001b[0;32m      6\u001b[0m \n\u001b[1;32m   (...)\u001b[0m\n\u001b[0;32m     11\u001b[0m \u001b[38;5;124;03m        None\u001b[39;00m\n\u001b[0;32m     12\u001b[0m \u001b[38;5;124;03m    \"\"\"\u001b[39;00m\n",
      "\u001b[1;31mModuleNotFoundError\u001b[0m: No module named 'pandas'"
     ]
    }
   ],
   "source": [
    "import pandas as pd\n",
    "\n",
    "def analisis_nilai(file_csv):\n",
    "    \"\"\"\n",
    "    Fungsi untuk menganalisis data nilai mahasiswa dari file CSV.\n",
    "\n",
    "    Args:\n",
    "        file_csv (str): Nama file CSV yang akan dibaca.\n",
    "\n",
    "    Returns:\n",
    "        None\n",
    "    \"\"\"\n",
    "\n",
    "    # Membaca file CSV ke dalam DataFrame\n",
    "    df = pd.read_csv(file_csv)\n",
    "\n",
    "    # Menghitung rata-rata nilai tiap mahasiswa\n",
    "    df['rata_rata'] = df.mean(axis=1)\n",
    "\n",
    "    # Mencari mahasiswa dengan nilai tertinggi\n",
    "    mahasiswa_tertinggi = df.loc[df['rata_rata'].idxmax()]\n",
    "    print(\"Mahasiswa dengan nilai tertinggi:\")\n",
    "    print(mahasiswa_tertinggi)\n",
    "\n",
    "    # Mencari mahasiswa dengan nilai terendah\n",
    "    mahasiswa_terendah = df.loc[df['rata_rata'].idxmin()]\n",
    "    print(\"\\nMahasiswa dengan nilai terendah:\")\n",
    "    print(mahasiswa_terendah)\n",
    "\n",
    "# Contoh penggunaan\n",
    "file_csv = \"nilai_mahasiswa.csv\"\n",
    "analisis_nilai(file_csv)"
   ]
  },
  {
   "cell_type": "markdown",
   "metadata": {},
   "source": [
    "5. Buatlah permainan sederhana menggunakan Python, di mana komputer akan memilih sebuah angka secara acak antara 1 hingga 100, dan pengguna harus menebak angka tersebut. Setiap tebakan yang salah akan memberikan petunjuk apakah angka yang ditebak lebih besar atau lebih kecil dari angka sebenarnya. Batasi jumlah percobaan menjadi 5 kali. Setelah permainan selesai, tampilkan apakah pemain menang atau kalah."
   ]
  },
  {
   "cell_type": "code",
   "execution_count": 38,
   "metadata": {},
   "outputs": [
    {
     "name": "stdout",
     "output_type": "stream",
     "text": [
      "Tebakan Anda terlalu kecil. Coba lagi!\n",
      "Tebakan Anda terlalu besar. Coba lagi!\n",
      "Tebakan Anda terlalu besar. Coba lagi!\n",
      "Tebakan Anda terlalu kecil. Coba lagi!\n",
      "Tebakan Anda terlalu kecil. Coba lagi!\n",
      "Kalah Angka sebenarnya adalah 59.\n",
      "Pemain kalah.\n"
     ]
    }
   ],
   "source": [
    "import random\n",
    "\n",
    "def tebak_angka():\n",
    "    # memilih angka acak antara 1 dan 100\n",
    "    angka_sebenarnya = random.randint(1, 100)\n",
    "    \n",
    "    # membuat pengguna dapat menebak sebanyak 5 kali\n",
    "    percobaan = 5\n",
    "    \n",
    "    while percobaan > 0:\n",
    "        # menerima input dari pengguna\n",
    "        try:\n",
    "            tebakan = int(input(\"Masukkan angka antara 1 dan 100: \"))\n",
    "        except ValueError:\n",
    "            print(\"Mohon masukkan angka yang valid.\")\n",
    "            continue\n",
    "        \n",
    "        # cek apakah tebakan benar atau salah\n",
    "        if tebakan == angka_sebenarnya:\n",
    "            print(f\"Selamat Anda berhasil menebak angka {angka_sebenarnya} dalam {5 - percobaan + 1} percobaan.\")\n",
    "            return True\n",
    "        \n",
    "        # memberi petunjuk jika tebakan salah\n",
    "        elif tebakan < angka_sebenarnya:\n",
    "            print(\"Tebakan Anda terlalu kecil. Coba lagi!\")\n",
    "        else:\n",
    "            print(\"Tebakan Anda terlalu besar. Coba lagi!\")\n",
    "        \n",
    "        # mengurangi jumlah percobaan\n",
    "        percobaan -= 1\n",
    "    \n",
    "    # jika gagal menebak dalam 5 kali percobaan\n",
    "    print(f\"Kalah Angka sebenarnya adalah {angka_sebenarnya}.\")\n",
    "    return False\n",
    "\n",
    "def main():\n",
    "    # memulai permainan\n",
    "    hasil_permainan = tebak_angka()\n",
    "    \n",
    "    # menampilkan hasil permainan\n",
    "    if hasil_permainan:\n",
    "        print(\"Pemain menang!\")\n",
    "    else:\n",
    "        print(\"Pemain kalah.\")\n",
    "\n",
    "if __name__ == \"__main__\":\n",
    "    main()"
   ]
  },
  {
   "cell_type": "markdown",
   "metadata": {},
   "source": [
    "6. Buat fungsi rekursif yang menerima input bilangan bulat `n` dan menghasilkan urutan bilangan seperti berikut ini:\n",
    "```\n",
    "Input: n = 4\n",
    "Output: 1, 1, 2, 6, 24\n",
    "```\n",
    "Fungsi ini harus menggunakan konsep rekursi untuk menghitung faktorial setiap angka hingga `n`.\n",
    "\n"
   ]
  },
  {
   "cell_type": "code",
   "execution_count": 27,
   "metadata": {},
   "outputs": [
    {
     "name": "stdout",
     "output_type": "stream",
     "text": [
      "Output: [1, 2, 6, 24]\n"
     ]
    }
   ],
   "source": [
    "def faktorial(n):\n",
    "    if n == 0 or n == 1:\n",
    "        return 1\n",
    "    else:\n",
    "        return n * faktorial(n - 1)\n",
    "\n",
    "def generate_sequence(n):\n",
    "    sequence = []\n",
    "    for i in range(1, n + 1):\n",
    "        sequence.append(faktorial(i))\n",
    "    return sequence\n",
    "\n",
    "def main():\n",
    "    n = int(input(\"Masukkan bilangan bulat n: \"))\n",
    "    sequence = generate_sequence(n)\n",
    "    print(\"Output:\", sequence)\n",
    "\n",
    "if __name__ == \"__main__\":\n",
    "    main()"
   ]
  },
  {
   "cell_type": "markdown",
   "metadata": {},
   "source": [
    "7. Buatlah program untuk memecahkan masalah \"minimum coin change\". Diberikan jumlah uang dan daftar nilai koin yang tersedia (misalnya, 1, 5, 10, 25), tentukan kombinasi minimum koin yang diperlukan untuk mencapai jumlah uang tersebut. Namun, program Anda harus bisa menangani koin-koin yang nilai dan jumlahnya ditentukan pengguna."
   ]
  },
  {
   "cell_type": "code",
   "execution_count": 23,
   "metadata": {},
   "outputs": [
    {
     "name": "stdout",
     "output_type": "stream",
     "text": [
      "Jumlah koin minimum yang diperlukan: 1\n"
     ]
    }
   ],
   "source": [
    "def minimum_coin_change(jumlah, coins):\n",
    "    dp = [float('inf')] * (jumlah + 1)\n",
    "    dp[0] = 0\n",
    "\n",
    "    for coin in coins:\n",
    "        for x in range(coin, jumlah + 1):\n",
    "            dp[x] = min(dp[x], dp[x - coin] + 1)\n",
    "\n",
    "    if dp[jumlah] == float('inf'):\n",
    "        return -1 \n",
    "    else:\n",
    "        return dp[jumlah] \n",
    "    \n",
    "def main():\n",
    "    # menerima input dari pengguna\n",
    "    jumlah = int(input(\"Masukkan jumlah uang yang ingin dicapai: \"))\n",
    "    coins_input = input(\"Masukkan nilai koin yang tersedia (pisahkan dengan spasi): \")\n",
    "    \n",
    "    # konversi input jadi list integer\n",
    "    coins = list(map(int, coins_input.split()))\n",
    "    \n",
    "    # hitung jumlah koin minimum\n",
    "    result = minimum_coin_change(jumlah, coins)\n",
    "    \n",
    "    if result == -1:\n",
    "        print(\"Tidak ada kombinasi koin yang dapat mencapai jumlah tersebut.\")\n",
    "    else:\n",
    "        print(f\"Jumlah koin minimum yang diperlukan: {result}\")\n",
    "\n",
    "if __name__ == \"__main__\":\n",
    "    main()"
   ]
  },
  {
   "cell_type": "markdown",
   "metadata": {},
   "source": [
    "8. Buat sebuah program yang menerima string dari pengguna dan mengonversi string tersebut menjadi sebuah list berisi kata-kata terbalik. Misalnya:\n",
    "```\n",
    "Input: \"Saya suka Python\"\n",
    "Output: [\"ayaS\", \"akus\", \"nohtyP\"]\n",
    "```"
   ]
  },
  {
   "cell_type": "code",
   "execution_count": 15,
   "metadata": {},
   "outputs": [
    {
     "name": "stdout",
     "output_type": "stream",
     "text": [
      "Output: ['uhaT', 'taluB']\n"
     ]
    }
   ],
   "source": [
    "def kata_terbalik(input_string):\n",
    "    # memisahkan string jadi list kata\n",
    "    kata_list = input_string.split()\n",
    "    \n",
    "    # membalik setiap kata dalam list\n",
    "    kata_terbalik_list = [kata[::-1] for kata in kata_list]\n",
    "    \n",
    "    return kata_terbalik_list\n",
    "\n",
    "def main():\n",
    "    input_string = input(\"Masukkan sebuah kalimat: \")\n",
    "    hasil = kata_terbalik(input_string)\n",
    "    \n",
    "    print(\"Output:\", hasil)\n",
    "\n",
    "if __name__ == \"__main__\":\n",
    "    main()"
   ]
  },
  {
   "cell_type": "markdown",
   "metadata": {},
   "source": [
    "9. Buat class bernama `Buku` yang memiliki atribut `judul`, `penulis`, dan `tahun_terbit`. Buat method dalam class untuk menampilkan informasi buku, serta method untuk menghitung usia buku berdasarkan tahun saat ini. Buatlah 3 objek dari class `Buku` dan tampilkan informasi serta usia masing-masing buku."
   ]
  },
  {
   "cell_type": "code",
   "execution_count": 3,
   "metadata": {},
   "outputs": [
    {
     "name": "stdout",
     "output_type": "stream",
     "text": [
      "Judul: Harry Potter dan Batu Bertuah\n",
      "Penulis: J.K. Rowling\n",
      "Tahun Terbit: 1997\n",
      "Usia Buku: 27 tahun\n",
      "\n",
      "Judul: The Great Dinosaurs\n",
      "Penulis: Bambang\n",
      "Tahun Terbit: 2005\n",
      "Usia Buku: 19 tahun\n",
      "\n",
      "Judul: 1715\n",
      "Penulis: Orel\n",
      "Tahun Terbit: 1760\n",
      "Usia Buku: 264 tahun\n",
      "\n",
      "Judul: Cara membuat cilok\n",
      "Penulis: Mursid\n",
      "Tahun Terbit: 2015\n",
      "Usia Buku: 9 tahun\n",
      "\n"
     ]
    }
   ],
   "source": [
    "class Buku:\n",
    "    def __init__(self, judul, penulis, tahun_terbit):\n",
    "        self.judul = judul\n",
    "        self.penulis = penulis\n",
    "        self.tahun_terbit = tahun_terbit\n",
    "\n",
    "    def tampilkan_informasi(self):\n",
    "        print(f\"Judul: {self.judul}\")\n",
    "        print(f\"Penulis: {self.penulis}\")\n",
    "        print(f\"Tahun Terbit: {self.tahun_terbit}\")\n",
    "\n",
    "    def hitung_usia(self, tahun_sekarang):\n",
    "        return tahun_sekarang - self.tahun_terbit\n",
    "\n",
    "# Membuat objek Buku\n",
    "buku1 = Buku(\"Harry Potter dan Batu Bertuah\", \"J.K. Rowling\", 1997)\n",
    "buku2 = Buku(\"The Great Dinosaurs\", \"Bambang\", 2005)\n",
    "buku3 = Buku(\"1715\", \"Orel\", 1760)\n",
    "buku4 = Buku(\"Cara membuat cilok\", \"Mursid\", 2015)\n",
    "\n",
    "# Tahun saat ini\n",
    "tahun_sekarang = 2024\n",
    "\n",
    "# Menampilkan informasi dan usia masing-masing buku\n",
    "for buku in [buku1, buku2, buku3, buku4]:\n",
    "    buku.tampilkan_informasi()\n",
    "    usia = buku.hitung_usia(tahun_sekarang)\n",
    "    print(f\"Usia Buku: {usia} tahun\\n\")\n"
   ]
  },
  {
   "cell_type": "markdown",
   "metadata": {},
   "source": [
    "10. Buatlah program yang mengimplementasikan algoritma pencarian biner, namun dengan modifikasi: algoritma harus bisa mencari nilai di list yang hanya berisi angka genap, dan jika nilai yang dicari adalah angka ganjil, program harus menampilkan pesan bahwa nilai tersebut tidak bisa ditemukan."
   ]
  },
  {
   "cell_type": "code",
   "execution_count": 11,
   "metadata": {},
   "outputs": [
    {
     "name": "stdout",
     "output_type": "stream",
     "text": [
      "Angka 4 ditemukan pada indeks 2.\n"
     ]
    }
   ],
   "source": [
    "def pencarian_biner_genap(genap, target):\n",
    "    # memastikan daftar hanya berisi angka genap\n",
    "    if any(num % 2 != 0 for num in genap):\n",
    "        raise ValueError(\"Daftar hanya berisi angka genap.\")\n",
    "    \n",
    "    kiri, kanan = 0, len(genap) - 1\n",
    "\n",
    "    while kiri <= kanan:\n",
    "        tengah = (kiri + kanan) // 2\n",
    "        if genap[tengah] == target:\n",
    "            return tengah \n",
    "        elif genap[tengah] < target:\n",
    "            kiri = tengah + 1\n",
    "        else:\n",
    "            kanan = tengah - 1\n",
    "    \n",
    "    return -1\n",
    "\n",
    "def main():\n",
    "    # daftar angka genap yang sudah diurutkan\n",
    "    genap = [0, 2, 4, 6, 8, 10, 12, 14, 16, 18, 20]\n",
    "    \n",
    "    # input dari pengguna\n",
    "    target = int(input(\"Masukkan angka yang ingin dicari: \"))\n",
    "    \n",
    "    # cek bila target adalah angka ganjil\n",
    "    if target % 2 != 0:\n",
    "        print(\"Nilai tidak bisa ditemukan karena yang dicari adalah angka ganjil.\")\n",
    "    else:\n",
    "        # mencari angka menggunakan pencarian biner\n",
    "        indeks = pencarian_biner_genap(genap, target)\n",
    "        \n",
    "        if indeks != -1:\n",
    "            print(f\"Angka {target} ditemukan pada indeks {indeks}.\")\n",
    "        else:\n",
    "            print(f\"Angka {target} tidak ditemukan dalam daftar.\")\n",
    "\n",
    "if __name__ == \"__main__\":\n",
    "    main()"
   ]
  }
 ],
 "metadata": {
  "kernelspec": {
   "display_name": "Python 3",
   "language": "python",
   "name": "python3"
  },
  "language_info": {
   "codemirror_mode": {
    "name": "ipython",
    "version": 3
   },
   "file_extension": ".py",
   "mimetype": "text/x-python",
   "name": "python",
   "nbconvert_exporter": "python",
   "pygments_lexer": "ipython3",
   "version": "3.12.6"
  }
 },
 "nbformat": 4,
 "nbformat_minor": 2
}
